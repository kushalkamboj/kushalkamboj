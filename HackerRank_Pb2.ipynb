{
  "nbformat": 4,
  "nbformat_minor": 0,
  "metadata": {
    "colab": {
      "provenance": []
    },
    "kernelspec": {
      "name": "python3",
      "display_name": "Python 3"
    },
    "language_info": {
      "name": "python"
    }
  },
  "cells": [
    {
      "cell_type": "code",
      "execution_count": 29,
      "metadata": {
        "id": "BOhUHsNAQexr"
      },
      "outputs": [],
      "source": [
        "import math\n",
        "import os\n",
        "import random\n",
        "import re\n",
        "import sys\n",
        "\n",
        "#\n",
        "# Complete the 'miniMaxSum' function below.\n",
        "#\n",
        "# The function accepts INTEGER_ARRAY arr as parameter.\n",
        "#\n",
        "\n",
        "def miniMaxSum(arr):\n",
        "  numsum = 0;\n",
        "  max_sum = arr[0];\n",
        "  min_sum = arr[0];\n",
        "  for i in range(len(arr)):\n",
        "    numsum=numsum+arr[i]\n",
        "    if arr[i]>max_sum:\n",
        "      max_sum = arr[i]\n",
        "    elif arr[i]<min_sum:\n",
        "      min_sum = arr[i]\n",
        "  print(str(numsum-max_sum)+ \" \" + str(numsum-min_sum))  "
      ]
    },
    {
      "cell_type": "code",
      "source": [
        "if __name__ == '__main__':\n",
        "\n",
        "    arr = list(map(int, input().rstrip().split()))\n",
        "\n",
        "    miniMaxSum(arr)"
      ],
      "metadata": {
        "colab": {
          "base_uri": "https://localhost:8080/"
        },
        "id": "qHpuUfs_YtDF",
        "outputId": "ee889f15-da7e-4c60-f53c-88a4f307dfca"
      },
      "execution_count": 30,
      "outputs": [
        {
          "output_type": "stream",
          "name": "stdout",
          "text": [
            "5 7 3 8 0\n",
            "15 23\n"
          ]
        }
      ]
    }
  ]
}