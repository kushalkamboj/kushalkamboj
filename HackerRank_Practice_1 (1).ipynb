{
  "nbformat": 4,
  "nbformat_minor": 0,
  "metadata": {
    "colab": {
      "provenance": []
    },
    "kernelspec": {
      "name": "python3",
      "display_name": "Python 3"
    },
    "language_info": {
      "name": "python"
    }
  },
  "cells": [
    {
      "cell_type": "code",
      "execution_count": 39,
      "metadata": {
        "id": "5OdVxtDyEaVP"
      },
      "outputs": [],
      "source": [
        "# Problem : Given an array of integers, calculate the ratios of its elements that are positive, negative, and zero. Print the decimal value of each fraction on a new line with 6 places after the decimal. \n",
        "#Note: This challenge introduces precision problems. The test cases are scaled to six decimal places, though answers with absolute error of up to 10^4  are acceptable.\n",
        "\n",
        "\n",
        "import math\n",
        "import os\n",
        "import random\n",
        "import re\n",
        "import sys\n",
        "\n",
        "#\n",
        "# Complete the 'plusMinus' function below.\n",
        "#\n",
        "# The function accepts INTEGER_ARRAY arr as parameter.\n",
        "#\n",
        "\n",
        "def plusMinus(arr):\n",
        "    # Write your code here\n",
        "   positive_count=0;\n",
        "   negative_count=0;\n",
        "   zero_count=0;\n",
        "   \n",
        "   for i in arr:\n",
        "       if int(i)>0:\n",
        "           positive_count += 1\n",
        "\n",
        "       if int(i)<0:\n",
        "           negative_count += 1\n",
        "\n",
        "       if int(i)==0:\n",
        "           zero_count += 1\n",
        "\n",
        "   print(\"{0:.6f}\".format(positive_count/n))\n",
        "   print(\"{0:.6f}\".format(negative_count/n))\n",
        "   print(\"{0:.6f}\".format(zero_count/n))\n",
        "   \n",
        "\n",
        "\n",
        "\n",
        "\n"
      ]
    },
    {
      "cell_type": "code",
      "source": [
        "if __name__ == '__main__':\n",
        "    n = int(input().strip())\n",
        "    arr = list(map(int, input().rstrip().split()))\n",
        "    plusMinus(arr)"
      ],
      "metadata": {
        "colab": {
          "base_uri": "https://localhost:8080/"
        },
        "id": "ALH7VhGjLMd8",
        "outputId": "89dd558e-d4bc-4b57-e969-13e5abd990e3"
      },
      "execution_count": 40,
      "outputs": [
        {
          "output_type": "stream",
          "name": "stdout",
          "text": [
            "6\n",
            "-4 3 -9 0 4 1\n",
            "0.500000\n",
            "0.333333\n",
            "0.166667\n"
          ]
        }
      ]
    }
  ]
}